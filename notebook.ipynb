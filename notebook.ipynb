{
 "cells": [
  {
   "cell_type": "code",
   "execution_count": 1,
   "id": "0e213344",
   "metadata": {},
   "outputs": [],
   "source": [
    "import tensorflow as tf\n",
    "from tensorflow import keras\n",
    "# flatten will transform our multi-dimentional to dimentional model \n",
    "from tensorflow.keras.layers import Dense,Flatten,Conv2D,MaxPool2D,Dropout\n",
    "from tensorflow.keras import Sequential\n",
    "import matplotlib.pyplot as plt\n",
    "%matplotlib inline\n",
    "import numpy as np\n",
    "import pandas as pd"
   ]
  },
  {
   "cell_type": "code",
   "execution_count": 2,
   "id": "3b9e791e",
   "metadata": {},
   "outputs": [],
   "source": [
    "from tensorflow.keras.preprocessing.image import ImageDataGenerator"
   ]
  },
  {
   "cell_type": "code",
   "execution_count": 9,
   "id": "0f7f3355",
   "metadata": {},
   "outputs": [],
   "source": [
    "train_data_dir=\"C:/Users/oubelkas fatima/Desktop/bump detection/SpeedBumpDetection/bump_detection_new/train_data\"\n",
    "validation_data_dir=\"C:/Users/oubelkas fatima/Desktop/bump detection/SpeedBumpDetection/bump_detection_new/validation_data\"\n",
    "img_width=224\n",
    "img_height=224\n",
    "batch_size=20"
   ]
  },
  {
   "cell_type": "code",
   "execution_count": 10,
   "id": "03719874",
   "metadata": {},
   "outputs": [],
   "source": [
    "datagen=ImageDataGenerator(rescale=1.0/255)"
   ]
  },
  {
   "cell_type": "code",
   "execution_count": 11,
   "id": "e49334a5",
   "metadata": {},
   "outputs": [
    {
     "name": "stdout",
     "output_type": "stream",
     "text": [
      "Found 810 images belonging to 2 classes.\n",
      "Found 410 images belonging to 2 classes.\n"
     ]
    }
   ],
   "source": [
    "train_data_gen=datagen.flow_from_directory(train_data_dir,\n",
    "                                           target_size=(img_width,img_height),\n",
    "                                           classes=['not_existing_bump','existing_bump'],\n",
    "                                           class_mode='binary')\n",
    "validation_data_gen=datagen.flow_from_directory(validation_data_dir,\n",
    "                                           target_size=(img_width,img_height),\n",
    "                                           classes=['not_existing_bump','existing_bump'],\n",
    "                                           class_mode='binary')"
   ]
  },
  {
   "cell_type": "code",
   "execution_count": 12,
   "id": "bb019ecd",
   "metadata": {},
   "outputs": [
    {
     "data": {
      "text/plain": [
       "{'not_existing_bump': 0, 'existing_bump': 1}"
      ]
     },
     "execution_count": 12,
     "metadata": {},
     "output_type": "execute_result"
    }
   ],
   "source": [
    "train_data_gen.class_indices\n"
   ]
  },
  {
   "cell_type": "code",
   "execution_count": 13,
   "id": "23370336",
   "metadata": {},
   "outputs": [
    {
     "data": {
      "text/plain": [
       "array([0, 0, 0, 0, 0, 0, 0, 0, 0, 0, 0, 0, 0, 0, 0, 0, 0, 0, 0, 0, 0, 0,\n",
       "       0, 0, 0, 0, 0, 0, 0, 0, 0, 0, 0, 0, 0, 0, 0, 0, 0, 0, 0, 0, 0, 0,\n",
       "       0, 0, 0, 0, 0, 0, 0, 0, 0, 0, 0, 0, 0, 0, 0, 0, 0, 0, 0, 0, 0, 0,\n",
       "       0, 0, 0, 0, 0, 0, 0, 0, 0, 0, 0, 0, 0, 0, 0, 0, 0, 0, 0, 0, 0, 0,\n",
       "       0, 0, 0, 0, 0, 0, 0, 0, 0, 0, 0, 0, 0, 0, 0, 0, 0, 0, 0, 0, 0, 0,\n",
       "       0, 0, 0, 0, 0, 0, 0, 0, 0, 0, 0, 0, 0, 0, 0, 0, 0, 0, 0, 0, 0, 0,\n",
       "       0, 0, 0, 0, 0, 0, 0, 0, 0, 0, 0, 0, 0, 0, 0, 0, 0, 0, 0, 0, 0, 0,\n",
       "       0, 0, 0, 0, 0, 0, 0, 0, 0, 0, 0, 0, 0, 0, 0, 0, 0, 0, 0, 0, 0, 0,\n",
       "       0, 0, 0, 0, 0, 0, 0, 0, 0, 0, 0, 0, 0, 0, 0, 0, 0, 0, 0, 0, 0, 0,\n",
       "       0, 0, 0, 0, 0, 0, 0, 0, 0, 0, 0, 0, 0, 0, 0, 0, 0, 0, 0, 0, 0, 0,\n",
       "       0, 0, 0, 0, 0, 0, 0, 0, 0, 0, 0, 0, 0, 0, 0, 0, 0, 0, 0, 0, 0, 0,\n",
       "       0, 0, 0, 0, 0, 0, 0, 0, 0, 0, 0, 0, 0, 0, 0, 0, 0, 0, 0, 0, 0, 0,\n",
       "       0, 0, 0, 0, 0, 0, 0, 0, 0, 0, 0, 0, 0, 0, 0, 0, 0, 0, 0, 0, 0, 0,\n",
       "       0, 0, 0, 0, 0, 0, 0, 0, 0, 0, 0, 0, 0, 0, 0, 0, 0, 0, 0, 0, 0, 0,\n",
       "       0, 0, 0, 0, 0, 0, 0, 0, 0, 0, 0, 0, 0, 0, 0, 0, 0, 0, 0, 0, 0, 0,\n",
       "       0, 0, 0, 0, 0, 0, 0, 0, 0, 0, 0, 0, 0, 0, 0, 0, 0, 0, 0, 0, 0, 0,\n",
       "       0, 0, 0, 0, 0, 0, 0, 0, 0, 0, 0, 0, 0, 0, 0, 0, 0, 0, 0, 0, 0, 0,\n",
       "       0, 0, 0, 0, 0, 0, 0, 0, 0, 0, 0, 0, 0, 0, 0, 0, 0, 0, 0, 0, 0, 0,\n",
       "       0, 0, 0, 0, 1, 1, 1, 1, 1, 1, 1, 1, 1, 1, 1, 1, 1, 1, 1, 1, 1, 1,\n",
       "       1, 1, 1, 1, 1, 1, 1, 1, 1, 1, 1, 1, 1, 1, 1, 1, 1, 1, 1, 1, 1, 1,\n",
       "       1, 1, 1, 1, 1, 1, 1, 1, 1, 1, 1, 1, 1, 1, 1, 1, 1, 1, 1, 1, 1, 1,\n",
       "       1, 1, 1, 1, 1, 1, 1, 1, 1, 1, 1, 1, 1, 1, 1, 1, 1, 1, 1, 1, 1, 1,\n",
       "       1, 1, 1, 1, 1, 1, 1, 1, 1, 1, 1, 1, 1, 1, 1, 1, 1, 1, 1, 1, 1, 1,\n",
       "       1, 1, 1, 1, 1, 1, 1, 1, 1, 1, 1, 1, 1, 1, 1, 1, 1, 1, 1, 1, 1, 1,\n",
       "       1, 1, 1, 1, 1, 1, 1, 1, 1, 1, 1, 1, 1, 1, 1, 1, 1, 1, 1, 1, 1, 1,\n",
       "       1, 1, 1, 1, 1, 1, 1, 1, 1, 1, 1, 1, 1, 1, 1, 1, 1, 1, 1, 1, 1, 1,\n",
       "       1, 1, 1, 1, 1, 1, 1, 1, 1, 1, 1, 1, 1, 1, 1, 1, 1, 1, 1, 1, 1, 1,\n",
       "       1, 1, 1, 1, 1, 1, 1, 1, 1, 1, 1, 1, 1, 1, 1, 1, 1, 1, 1, 1, 1, 1,\n",
       "       1, 1, 1, 1, 1, 1, 1, 1, 1, 1, 1, 1, 1, 1, 1, 1, 1, 1, 1, 1, 1, 1,\n",
       "       1, 1, 1, 1, 1, 1, 1, 1, 1, 1, 1, 1, 1, 1, 1, 1, 1, 1, 1, 1, 1, 1,\n",
       "       1, 1, 1, 1, 1, 1, 1, 1, 1, 1, 1, 1, 1, 1, 1, 1, 1, 1, 1, 1, 1, 1,\n",
       "       1, 1, 1, 1, 1, 1, 1, 1, 1, 1, 1, 1, 1, 1, 1, 1, 1, 1, 1, 1, 1, 1,\n",
       "       1, 1, 1, 1, 1, 1, 1, 1, 1, 1, 1, 1, 1, 1, 1, 1, 1, 1, 1, 1, 1, 1,\n",
       "       1, 1, 1, 1, 1, 1, 1, 1, 1, 1, 1, 1, 1, 1, 1, 1, 1, 1, 1, 1, 1, 1,\n",
       "       1, 1, 1, 1, 1, 1, 1, 1, 1, 1, 1, 1, 1, 1, 1, 1, 1, 1, 1, 1, 1, 1,\n",
       "       1, 1, 1, 1, 1, 1, 1, 1, 1, 1, 1, 1, 1, 1, 1, 1, 1, 1, 1, 1, 1, 1,\n",
       "       1, 1, 1, 1, 1, 1, 1, 1, 1, 1, 1, 1, 1, 1, 1, 1, 1, 1])"
      ]
     },
     "execution_count": 13,
     "metadata": {},
     "output_type": "execute_result"
    }
   ],
   "source": [
    "train_data_gen.classes"
   ]
  },
  {
   "cell_type": "code",
   "execution_count": 14,
   "id": "a4d61211",
   "metadata": {},
   "outputs": [],
   "source": [
    "# sequential model means that the layers are going to be stacked up in the sequence  \n",
    "model=Sequential()\n",
    "# we use 64 of features or filters \n",
    "model.add(Conv2D(64,kernel_size=3,activation='relu',input_shape=(img_width,img_height,3)))\n",
    "# we are using (3,3) size filter \n",
    "model.add(MaxPool2D(3,3))\n",
    "\n",
    "\n",
    "model.add(Flatten())\n",
    "# number of neurons we want to keep in that layer  in this case 128\n",
    "model.add(Dense(128,activation='relu'))\n",
    "model.add(Dropout(0.5))\n",
    "# number of output layer in this case 1 AND segmoind because it is a binary classification \n",
    "model.add(Dense(1,activation=\"sigmoid\"))\n"
   ]
  },
  {
   "cell_type": "code",
   "execution_count": 25,
   "id": "5c82ba17",
   "metadata": {},
   "outputs": [
    {
     "name": "stdout",
     "output_type": "stream",
     "text": [
      "Model: \"sequential_1\"\n",
      "_________________________________________________________________\n",
      " Layer (type)                Output Shape              Param #   \n",
      "=================================================================\n",
      " conv2d_1 (Conv2D)           (None, 222, 222, 64)      1792      \n",
      "                                                                 \n",
      " max_pooling2d_1 (MaxPooling  (None, 74, 74, 64)       0         \n",
      " 2D)                                                             \n",
      "                                                                 \n",
      " flatten_1 (Flatten)         (None, 350464)            0         \n",
      "                                                                 \n",
      " dense_2 (Dense)             (None, 128)               44859520  \n",
      "                                                                 \n",
      " dropout_1 (Dropout)         (None, 128)               0         \n",
      "                                                                 \n",
      " dense_3 (Dense)             (None, 1)                 129       \n",
      "                                                                 \n",
      "=================================================================\n",
      "Total params: 44,861,441\n",
      "Trainable params: 44,861,441\n",
      "Non-trainable params: 0\n",
      "_________________________________________________________________\n"
     ]
    }
   ],
   "source": [
    "model.summary()\n"
   ]
  },
  {
   "cell_type": "code",
   "execution_count": 26,
   "id": "4996fb23",
   "metadata": {},
   "outputs": [],
   "source": [
    "\n",
    "model.compile(optimizer='adam',loss='binary_crossentropy',metrics=['accuracy'])"
   ]
  },
  {
   "cell_type": "code",
   "execution_count": 27,
   "id": "7d94668d",
   "metadata": {},
   "outputs": [
    {
     "name": "stdout",
     "output_type": "stream",
     "text": [
      "Epoch 1/50\n"
     ]
    },
    {
     "name": "stderr",
     "output_type": "stream",
     "text": [
      "C:\\Users\\OUBELK~1\\AppData\\Local\\Temp/ipykernel_14256/646880906.py:1: UserWarning: `Model.fit_generator` is deprecated and will be removed in a future version. Please use `Model.fit`, which supports generators.\n",
      "  history=model.fit_generator(train_data_gen,steps_per_epoch=len(train_data_gen),epochs=50,validation_data=validation_data_gen\n"
     ]
    },
    {
     "name": "stdout",
     "output_type": "stream",
     "text": [
      "26/26 [==============================] - 90s 3s/step - loss: 5.6588 - accuracy: 0.4926 - val_loss: 0.6731 - val_accuracy: 0.5366\n",
      "Epoch 2/50\n",
      "26/26 [==============================] - 65s 2s/step - loss: 0.6525 - accuracy: 0.6198 - val_loss: 0.5991 - val_accuracy: 0.7780\n",
      "Epoch 3/50\n",
      "26/26 [==============================] - 60s 2s/step - loss: 0.5108 - accuracy: 0.7494 - val_loss: 0.4835 - val_accuracy: 0.7756\n",
      "Epoch 4/50\n",
      "26/26 [==============================] - 60s 2s/step - loss: 0.4441 - accuracy: 0.8099 - val_loss: 0.4500 - val_accuracy: 0.7610\n",
      "Epoch 5/50\n",
      "26/26 [==============================] - 60s 2s/step - loss: 0.3060 - accuracy: 0.8815 - val_loss: 0.4113 - val_accuracy: 0.7805\n",
      "Epoch 6/50\n",
      "26/26 [==============================] - 66s 3s/step - loss: 0.2635 - accuracy: 0.9000 - val_loss: 0.4536 - val_accuracy: 0.7854\n",
      "Epoch 7/50\n",
      "26/26 [==============================] - 66s 3s/step - loss: 0.1831 - accuracy: 0.9321 - val_loss: 0.3890 - val_accuracy: 0.8098\n",
      "Epoch 8/50\n",
      "26/26 [==============================] - 61s 2s/step - loss: 0.1640 - accuracy: 0.9494 - val_loss: 0.3657 - val_accuracy: 0.8244\n",
      "Epoch 9/50\n",
      "26/26 [==============================] - 55s 2s/step - loss: 0.1160 - accuracy: 0.9691 - val_loss: 0.3770 - val_accuracy: 0.8293\n",
      "Epoch 10/50\n",
      "26/26 [==============================] - 58s 2s/step - loss: 0.0882 - accuracy: 0.9765 - val_loss: 0.3493 - val_accuracy: 0.8512\n",
      "Epoch 11/50\n",
      "26/26 [==============================] - 71s 3s/step - loss: 0.0793 - accuracy: 0.9840 - val_loss: 0.4162 - val_accuracy: 0.8659\n",
      "Epoch 12/50\n",
      "26/26 [==============================] - 60s 2s/step - loss: 0.0469 - accuracy: 0.9914 - val_loss: 0.4119 - val_accuracy: 0.8610\n",
      "Epoch 13/50\n",
      "26/26 [==============================] - 64s 2s/step - loss: 0.0441 - accuracy: 0.9877 - val_loss: 0.4281 - val_accuracy: 0.8488\n",
      "Epoch 14/50\n",
      "26/26 [==============================] - 62s 2s/step - loss: 0.0369 - accuracy: 0.9951 - val_loss: 0.3643 - val_accuracy: 0.8634\n",
      "Epoch 15/50\n",
      "26/26 [==============================] - 62s 2s/step - loss: 0.0320 - accuracy: 0.9951 - val_loss: 0.4354 - val_accuracy: 0.8707\n",
      "Epoch 16/50\n",
      "26/26 [==============================] - 60s 2s/step - loss: 0.0321 - accuracy: 0.9951 - val_loss: 0.4066 - val_accuracy: 0.8561\n",
      "Epoch 17/50\n",
      "26/26 [==============================] - 61s 2s/step - loss: 0.0327 - accuracy: 0.9938 - val_loss: 0.4200 - val_accuracy: 0.8829\n",
      "Epoch 18/50\n",
      "26/26 [==============================] - 63s 2s/step - loss: 0.0431 - accuracy: 0.9926 - val_loss: 0.4101 - val_accuracy: 0.8805\n",
      "Epoch 19/50\n",
      "26/26 [==============================] - 61s 2s/step - loss: 0.0285 - accuracy: 0.9963 - val_loss: 0.4067 - val_accuracy: 0.8634\n",
      "Epoch 20/50\n",
      "26/26 [==============================] - 67s 3s/step - loss: 0.0281 - accuracy: 0.9951 - val_loss: 0.4472 - val_accuracy: 0.8634\n",
      "Epoch 21/50\n",
      "26/26 [==============================] - 66s 3s/step - loss: 0.0244 - accuracy: 0.9975 - val_loss: 0.4305 - val_accuracy: 0.8659\n",
      "Epoch 22/50\n",
      "26/26 [==============================] - 56s 2s/step - loss: 0.0298 - accuracy: 0.9963 - val_loss: 0.4516 - val_accuracy: 0.8610\n",
      "Epoch 23/50\n",
      "26/26 [==============================] - 51s 2s/step - loss: 0.0185 - accuracy: 0.9975 - val_loss: 0.4544 - val_accuracy: 0.8683\n",
      "Epoch 24/50\n",
      "26/26 [==============================] - 52s 2s/step - loss: 0.0141 - accuracy: 0.9975 - val_loss: 0.4625 - val_accuracy: 0.8659\n",
      "Epoch 25/50\n",
      "26/26 [==============================] - 52s 2s/step - loss: 0.0094 - accuracy: 0.9988 - val_loss: 0.4863 - val_accuracy: 0.8634\n",
      "Epoch 26/50\n",
      "26/26 [==============================] - 51s 2s/step - loss: 0.0102 - accuracy: 0.9975 - val_loss: 0.4873 - val_accuracy: 0.8683\n",
      "Epoch 27/50\n",
      "26/26 [==============================] - 52s 2s/step - loss: 0.0123 - accuracy: 0.9963 - val_loss: 0.4704 - val_accuracy: 0.8683\n",
      "Epoch 28/50\n",
      "26/26 [==============================] - 52s 2s/step - loss: 0.0061 - accuracy: 0.9988 - val_loss: 0.5433 - val_accuracy: 0.8780\n",
      "Epoch 29/50\n",
      "26/26 [==============================] - 56s 2s/step - loss: 0.0057 - accuracy: 1.0000 - val_loss: 0.4866 - val_accuracy: 0.8780\n",
      "Epoch 30/50\n",
      "26/26 [==============================] - 51s 2s/step - loss: 0.0181 - accuracy: 0.9963 - val_loss: 0.4971 - val_accuracy: 0.8756\n",
      "Epoch 31/50\n",
      "26/26 [==============================] - 50s 2s/step - loss: 0.0057 - accuracy: 0.9988 - val_loss: 0.5569 - val_accuracy: 0.8707\n",
      "Epoch 32/50\n",
      "26/26 [==============================] - 50s 2s/step - loss: 0.0131 - accuracy: 0.9975 - val_loss: 0.4952 - val_accuracy: 0.8683\n",
      "Epoch 33/50\n",
      "26/26 [==============================] - 50s 2s/step - loss: 0.0095 - accuracy: 0.9963 - val_loss: 0.4800 - val_accuracy: 0.8829\n",
      "Epoch 34/50\n",
      "26/26 [==============================] - 51s 2s/step - loss: 0.0204 - accuracy: 0.9963 - val_loss: 0.4835 - val_accuracy: 0.8561\n",
      "Epoch 35/50\n",
      "26/26 [==============================] - 51s 2s/step - loss: 0.0073 - accuracy: 0.9975 - val_loss: 0.6180 - val_accuracy: 0.8683\n",
      "Epoch 36/50\n",
      "26/26 [==============================] - 50s 2s/step - loss: 0.0233 - accuracy: 0.9901 - val_loss: 0.5438 - val_accuracy: 0.8659\n",
      "Epoch 37/50\n",
      "26/26 [==============================] - 52s 2s/step - loss: 0.0313 - accuracy: 0.9951 - val_loss: 0.4683 - val_accuracy: 0.8707\n",
      "Epoch 38/50\n",
      "26/26 [==============================] - 51s 2s/step - loss: 0.0127 - accuracy: 0.9975 - val_loss: 0.5508 - val_accuracy: 0.8512\n",
      "Epoch 39/50\n",
      "26/26 [==============================] - 50s 2s/step - loss: 0.0155 - accuracy: 0.9963 - val_loss: 0.4919 - val_accuracy: 0.8634\n",
      "Epoch 40/50\n",
      "26/26 [==============================] - 50s 2s/step - loss: 0.0151 - accuracy: 0.9975 - val_loss: 0.4831 - val_accuracy: 0.8829\n",
      "Epoch 41/50\n",
      "26/26 [==============================] - 51s 2s/step - loss: 0.0101 - accuracy: 0.9988 - val_loss: 0.5533 - val_accuracy: 0.8463\n",
      "Epoch 42/50\n",
      "26/26 [==============================] - 50s 2s/step - loss: 0.0179 - accuracy: 0.9963 - val_loss: 0.5436 - val_accuracy: 0.8610\n",
      "Epoch 43/50\n",
      "26/26 [==============================] - 52s 2s/step - loss: 0.0091 - accuracy: 0.9988 - val_loss: 0.5260 - val_accuracy: 0.8683\n",
      "Epoch 44/50\n",
      "26/26 [==============================] - 49s 2s/step - loss: 0.0123 - accuracy: 0.9963 - val_loss: 0.4947 - val_accuracy: 0.8805\n",
      "Epoch 45/50\n",
      "26/26 [==============================] - 49s 2s/step - loss: 0.0202 - accuracy: 0.9963 - val_loss: 0.5184 - val_accuracy: 0.8756\n",
      "Epoch 46/50\n",
      "26/26 [==============================] - 50s 2s/step - loss: 0.0098 - accuracy: 0.9975 - val_loss: 0.5372 - val_accuracy: 0.8561\n",
      "Epoch 47/50\n",
      "26/26 [==============================] - 50s 2s/step - loss: 0.0083 - accuracy: 0.9988 - val_loss: 0.5335 - val_accuracy: 0.8634\n",
      "Epoch 48/50\n",
      "26/26 [==============================] - 50s 2s/step - loss: 0.0093 - accuracy: 0.9963 - val_loss: 0.5943 - val_accuracy: 0.8585\n",
      "Epoch 49/50\n",
      "26/26 [==============================] - 51s 2s/step - loss: 0.0119 - accuracy: 0.9963 - val_loss: 0.5353 - val_accuracy: 0.8610\n",
      "Epoch 50/50\n",
      "26/26 [==============================] - 50s 2s/step - loss: 0.0043 - accuracy: 0.9988 - val_loss: 0.6208 - val_accuracy: 0.8488\n"
     ]
    }
   ],
   "source": [
    "history=model.fit_generator(train_data_gen,steps_per_epoch=len(train_data_gen),epochs=20,validation_data=validation_data_gen\n",
    "                            ,validation_steps=len(validation_data_gen))"
   ]
  },
  {
   "cell_type": "code",
   "execution_count": 13,
   "id": "5c460443",
   "metadata": {},
   "outputs": [
    {
     "data": {
      "image/png": "[encoded data removed]",
      "text/plain": [
       "<Figure size 432x288 with 1 Axes>"
      ]
     },
     "metadata": {
      "needs_background": "light"
     },
     "output_type": "display_data"
    },
    {
     "data": {
      "image/png": "[encoded data removed]",
      "text/plain": [
       "<Figure size 432x288 with 1 Axes>"
      ]
     },
     "metadata": {
      "needs_background": "light"
     },
     "output_type": "display_data"
    }
   ],
   "source": [
    "plt.plot(history.history['accuracy'], label='Training accuracy')\n",
    "plt.plot(history.history['val_accuracy'], label='Validation accuracy')\n",
    "plt.title('Validation accuracies')\n",
    "plt.ylabel('Accuracy')\n",
    "plt.xlabel('Epoch')\n",
    "plt.legend(loc=\"upper left\")\n",
    "plt.show()\n",
    "\n",
    "plt.plot(history.history['loss'], label='Training loss')\n",
    "plt.plot(history.history['val_loss'], label='Validation loss')\n",
    "plt.title('validation loss values')\n",
    "plt.ylabel('Loss value')\n",
    "plt.xlabel('Epoch')\n",
    "plt.legend(loc=\"upper left\")\n",
    "plt.show()\n",
    "     "
   ]
  },
  {
   "cell_type": "code",
   "execution_count": 1,
   "id": "997904ce",
   "metadata": {},
   "outputs": [
    {
     "ename": "NameError",
     "evalue": "name 'model' is not defined",
     "output_type": "error",
     "traceback": [
      "\u001b[1;31m---------------------------------------------------------------------------\u001b[0m",
      "\u001b[1;31mNameError\u001b[0m                                 Traceback (most recent call last)",
      "\u001b[1;32mC:\\Users\\OUBELK~1\\AppData\\Local\\Temp/ipykernel_10780/4251460784.py\u001b[0m in \u001b[0;36m<module>\u001b[1;34m\u001b[0m\n\u001b[1;32m----> 1\u001b[1;33m \u001b[0mmodel\u001b[0m\u001b[1;33m.\u001b[0m\u001b[0msave\u001b[0m\u001b[1;33m(\u001b[0m\u001b[1;34m\"model.h5\"\u001b[0m\u001b[1;33m)\u001b[0m\u001b[1;33m\u001b[0m\u001b[1;33m\u001b[0m\u001b[0m\n\u001b[0m",
      "\u001b[1;31mNameError\u001b[0m: name 'model' is not defined"
     ]
    }
   ],
   "source": [
    "model.save(\"model.h5\")"
   ]
  },
  {
   "cell_type": "code",
   "execution_count": 3,
   "id": "d4dda5db",
   "metadata": {},
   "outputs": [],
   "source": [
    "mod = tf.keras.models.load_model(\"model.h5\")"
   ]
  },
  {
   "cell_type": "code",
   "execution_count": 4,
   "id": "4a37ed82",
   "metadata": {},
   "outputs": [],
   "source": [
    "from tensorflow.keras.preprocessing import image\n"
   ]
  },
  {
   "cell_type": "code",
   "execution_count": 13,
   "id": "b5a7d97e",
   "metadata": {},
   "outputs": [
    {
     "name": "stdout",
     "output_type": "stream",
     "text": [
      "1/1 [==============================] - 0s 98ms/step\n",
      "d'après le modèle : bump doesn't exist\n"
     ]
    }
   ],
   "source": [
    "img=image.load_img(\"C:/Users/oubelkas fatima/Desktop/bump detection/SpeedBumpDetection/img/5223.jpg\",target_size=(224,224))\n",
    "#plt.imshow(img)\n",
    "img=image.img_to_array(img)\n",
    "img=img/255.0\n",
    "img = np.expand_dims(img, axis=0) \n",
    "img_class = mod.predict(img)\n",
    "img_class = img_class > 0.5\n",
    "\n",
    "if(img_class == 0):\n",
    "    imag = 'bump doesn\\'t exist'\n",
    "else :\n",
    "    imag ='bump exist'\n",
    "    \n",
    "print(\"d'après le modèle :\", imag)"
   ]
  },
  {
   "cell_type": "code",
   "execution_count": 18,
   "id": "24a9c9ae",
   "metadata": {},
   "outputs": [
    {
     "name": "stdout",
     "output_type": "stream",
     "text": [
      "1/1 [==============================] - 0s 104ms/step\n"
     ]
    },
    {
     "ename": "error",
     "evalue": "OpenCV(4.6.0) D:\\a\\opencv-python\\opencv-python\\opencv\\modules\\highgui\\src\\window_w32.cpp:124: error: (-215:Assertion failed) bmi && width >= 0 && height >= 0 && (bpp == 8 || bpp == 24 || bpp == 32) in function 'FillBitmapInfo'\n",
     "output_type": "error",
     "traceback": [
      "\u001b[1;31m---------------------------------------------------------------------------\u001b[0m",
      "\u001b[1;31merror\u001b[0m                                     Traceback (most recent call last)",
      "\u001b[1;32mC:\\Users\\OUBELK~1\\AppData\\Local\\Temp/ipykernel_8524/3157265661.py\u001b[0m in \u001b[0;36m<module>\u001b[1;34m\u001b[0m\n\u001b[0;32m     22\u001b[0m     \u001b[1;31m# Display the prediction on the screen\u001b[0m\u001b[1;33m\u001b[0m\u001b[1;33m\u001b[0m\u001b[0m\n\u001b[0;32m     23\u001b[0m     \u001b[1;31m#cv2.putText(image, str(prediction), (10, 30), cv2.FONT_HERSHEY_SIMPLEX, 1.0, (0, 255, 0), 3)\u001b[0m\u001b[1;33m\u001b[0m\u001b[1;33m\u001b[0m\u001b[0m\n\u001b[1;32m---> 24\u001b[1;33m     \u001b[0mcv2\u001b[0m\u001b[1;33m.\u001b[0m\u001b[0mimshow\u001b[0m\u001b[1;33m(\u001b[0m\u001b[1;34m\"Prediction\"\u001b[0m\u001b[1;33m,\u001b[0m \u001b[0mimage\u001b[0m\u001b[1;33m)\u001b[0m\u001b[1;33m\u001b[0m\u001b[1;33m\u001b[0m\u001b[0m\n\u001b[0m\u001b[0;32m     25\u001b[0m \u001b[1;33m\u001b[0m\u001b[0m\n\u001b[0;32m     26\u001b[0m     \u001b[1;31m# Check for user input to stop the program\u001b[0m\u001b[1;33m\u001b[0m\u001b[1;33m\u001b[0m\u001b[0m\n",
      "\u001b[1;31merror\u001b[0m: OpenCV(4.6.0) D:\\a\\opencv-python\\opencv-python\\opencv\\modules\\highgui\\src\\window_w32.cpp:124: error: (-215:Assertion failed) bmi && width >= 0 && height >= 0 && (bpp == 8 || bpp == 24 || bpp == 32) in function 'FillBitmapInfo'\n"
     ]
    }
   ],
   "source": [
    "import cv2\n",
    "import tensorflow as tf\n",
    "\n",
    "# Load the trained model\n",
    " \n",
    "\n",
    "# Start the camera\n",
    "camera = cv2.VideoCapture(0)\n",
    "\n",
    "while True:\n",
    "    # Capture an image from the camera\n",
    "    ret, image = camera.read()\n",
    "    \n",
    "    # Preprocess the image\n",
    "    image = cv2.resize(image, (224, 224))\n",
    "    image = image / 255.0\n",
    "    image = np.expand_dims(image, axis=0)\n",
    "    \n",
    "    # Use the model to make a prediction\n",
    "    prediction = mod.predict(image)\n",
    "    \n",
    "    # Display the prediction on the screen\n",
    "    #cv2.putText(image, str(prediction), (10, 30), cv2.FONT_HERSHEY_SIMPLEX, 1.0, (0, 255, 0), 3)\n",
    "    cv2.imshow(\"Prediction\", image)\n",
    "    \n",
    "    # Check for user input to stop the program\n",
    "    key = cv2.waitKey(1)\n",
    "    if key == ord(\"q\"):\n",
    "        break\n",
    "\n",
    "# Release the camera\n",
    "camera.release()\n"
   ]
  },
  {
   "cell_type": "code",
   "execution_count": 2,
   "id": "d7ce77ce",
   "metadata": {},
   "outputs": [
    {
     "name": "stdout",
     "output_type": "stream",
     "text": [
      "4.6.0\n"
     ]
    }
   ],
   "source": [
    "import cv2\n",
    "print(cv2.__version__)"
   ]
  },
  {
   "cell_type": "code",
   "execution_count": 16,
   "id": "c2b393fb",
   "metadata": {},
   "outputs": [],
   "source": [
    "import numpy as np\n",
    "\n",
    "# Create a NumPy array\n",
    "a = np.array([[1, 2, 3], [4, 5, 6]])"
   ]
  },
  {
   "cell_type": "code",
   "execution_count": 17,
   "id": "f4cf1aec",
   "metadata": {},
   "outputs": [
    {
     "data": {
      "text/plain": [
       "array([[1, 2, 3],\n",
       "       [4, 5, 6]])"
      ]
     },
     "execution_count": 17,
     "metadata": {},
     "output_type": "execute_result"
    }
   ],
   "source": [
    "a"
   ]
  },
  {
   "cell_type": "code",
   "execution_count": null,
   "id": "a6dd6a20",
   "metadata": {},
   "outputs": [],
   "source": [
    "max_indices = np.argmax(a)\n",
    "print(max_indices)  # Output: [1 1 1]"
   ]
  },
  {
   "cell_type": "code",
   "execution_count": null,
   "id": "6ccb158c",
   "metadata": {},
   "outputs": [],
   "source": []
  },
  {
   "cell_type": "code",
   "execution_count": null,
   "id": "a80965c5",
   "metadata": {},
   "outputs": [],
   "source": []
  }
 ],
 "metadata": {
  "kernelspec": {
   "display_name": "Python 3 (ipykernel)",
   "language": "python",
   "name": "python3"
  },
  "language_info": {
   "codemirror_mode": {
    "name": "ipython",
    "version": 3
   },
   "file_extension": ".py",
   "mimetype": "text/x-python",
   "name": "python",
   "nbconvert_exporter": "python",
   "pygments_lexer": "ipython3",
   "version": "3.10.1"
  }
 },
 "nbformat": 4,
 "nbformat_minor": 5
}
